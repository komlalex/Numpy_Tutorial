{
 "cells": [
  {
   "cell_type": "markdown",
   "id": "a3a1e670-250c-44db-bc55-8c61f63a5beb",
   "metadata": {},
   "source": [
    "# Accessing/Changing specific elements, rows, columns, etc"
   ]
  },
  {
   "cell_type": "code",
   "execution_count": 1,
   "id": "440495de-a9f3-449a-a93b-9374d2831894",
   "metadata": {},
   "outputs": [],
   "source": [
    "import numpy as np"
   ]
  },
  {
   "cell_type": "code",
   "execution_count": 11,
   "id": "674370d4-8917-40c7-ab3a-3de25cbdad65",
   "metadata": {},
   "outputs": [],
   "source": [
    "a = np.array([[1,2,3,4,5,6,7],[8,9,10,11,12,13,14]])\n"
   ]
  },
  {
   "cell_type": "markdown",
   "id": "f431fd67-2886-491f-a591-1fefbd15275a",
   "metadata": {},
   "source": [
    "# Get a specific elements ([r, c])"
   ]
  },
  {
   "cell_type": "code",
   "execution_count": 13,
   "id": "0b9cded6-fa4a-40ee-9313-22bd5fa9aae3",
   "metadata": {},
   "outputs": [
    {
     "data": {
      "text/plain": [
       "13"
      ]
     },
     "execution_count": 13,
     "metadata": {},
     "output_type": "execute_result"
    }
   ],
   "source": [
    "a[1, 5]"
   ]
  },
  {
   "cell_type": "markdown",
   "id": "5ce0df29-8788-4534-9fe0-0f37faed9ef1",
   "metadata": {},
   "source": [
    "# Get a specific row"
   ]
  },
  {
   "cell_type": "code",
   "execution_count": 15,
   "id": "9c529683-0494-4636-8482-c78ec0524da9",
   "metadata": {},
   "outputs": [
    {
     "data": {
      "text/plain": [
       "array([ 8,  9, 10, 11, 12, 13, 14])"
      ]
     },
     "execution_count": 15,
     "metadata": {},
     "output_type": "execute_result"
    }
   ],
   "source": [
    "a[1, :]"
   ]
  },
  {
   "cell_type": "markdown",
   "id": "8a35473f-9d54-4613-8769-80dcef83f84b",
   "metadata": {},
   "source": [
    "# Get a specific column"
   ]
  },
  {
   "cell_type": "code",
   "execution_count": 17,
   "id": "fd081839-edc4-4623-85fa-00feb8ce5990",
   "metadata": {},
   "outputs": [
    {
     "data": {
      "text/plain": [
       "array([1, 8])"
      ]
     },
     "execution_count": 17,
     "metadata": {},
     "output_type": "execute_result"
    }
   ],
   "source": [
    "a[:, 0]"
   ]
  },
  {
   "cell_type": "markdown",
   "id": "7e453889-d00c-440d-abab-12f5a688292b",
   "metadata": {},
   "source": [
    "# Getting a little more fancy [startindec:endindex:stepsize]"
   ]
  },
  {
   "cell_type": "code",
   "execution_count": 21,
   "id": "c0e88c32-9f95-4b9b-987b-cc5fe0c1ea7e",
   "metadata": {},
   "outputs": [
    {
     "data": {
      "text/plain": [
       "array([2, 4, 6])"
      ]
     },
     "execution_count": 21,
     "metadata": {},
     "output_type": "execute_result"
    }
   ],
   "source": [
    "a[0, 1:6:2]"
   ]
  },
  {
   "cell_type": "markdown",
   "id": "8d8cdede-5e28-4f1e-992f-57abe7a154f9",
   "metadata": {},
   "source": [
    "# Changing elements"
   ]
  },
  {
   "cell_type": "code",
   "execution_count": 22,
   "id": "fda4fdbd-032b-4876-8b64-6301968a256e",
   "metadata": {},
   "outputs": [
    {
     "data": {
      "text/plain": [
       "18"
      ]
     },
     "execution_count": 22,
     "metadata": {},
     "output_type": "execute_result"
    }
   ],
   "source": [
    "a[1,5] = 20\n",
    "print(a)"
   ]
  },
  {
   "cell_type": "code",
   "execution_count": 24,
   "id": "35e55561-2141-4255-b3af-852c3988faf2",
   "metadata": {},
   "outputs": [
    {
     "name": "stdout",
     "output_type": "stream",
     "text": [
      "[[ 1  2  1  4  5  6  7]\n",
      " [ 8  9  2 11 12 18 14]]\n"
     ]
    }
   ],
   "source": [
    "#a[:, 2] = 5\n",
    "a[:, 2] = [1, 2]\n",
    "print(a)"
   ]
  },
  {
   "cell_type": "markdown",
   "id": "0dbd4dd7-1041-489b-b022-6bbf6fd5e46e",
   "metadata": {},
   "source": [
    "# A 3-D example"
   ]
  },
  {
   "cell_type": "code",
   "execution_count": 33,
   "id": "0c24078d-b95f-4857-a789-5f16abba6563",
   "metadata": {},
   "outputs": [
    {
     "name": "stdout",
     "output_type": "stream",
     "text": [
      "[[[1 2]\n",
      "  [3 4]\n",
      "  [5 6]\n",
      "  [7 8]]]\n"
     ]
    }
   ],
   "source": [
    "b = np.array([[[1,2], [3,4],[5,6],[7,8]]])\n",
    "print(b)"
   ]
  },
  {
   "cell_type": "markdown",
   "id": "e31e721e-aa93-4066-a22f-ffe14d45b687",
   "metadata": {},
   "source": [
    "# Get specific element from a 3-D array"
   ]
  },
  {
   "cell_type": "code",
   "execution_count": 36,
   "id": "beed00f7-1470-46d6-92fd-58979b3c2f28",
   "metadata": {},
   "outputs": [
    {
     "name": "stdout",
     "output_type": "stream",
     "text": [
      "[[[1 2]\n",
      "  [9 9]\n",
      "  [5 6]\n",
      "  [7 8]]]\n"
     ]
    }
   ],
   "source": [
    "b[:, 1 , :] = [[9,9]]\n",
    "print(b)"
   ]
  },
  {
   "cell_type": "code",
   "execution_count": null,
   "id": "59ebc5b9-f9a4-4a4f-83d4-1ec366a6ec41",
   "metadata": {},
   "outputs": [],
   "source": []
  }
 ],
 "metadata": {
  "kernelspec": {
   "display_name": "Python 3 (ipykernel)",
   "language": "python",
   "name": "python3"
  },
  "language_info": {
   "codemirror_mode": {
    "name": "ipython",
    "version": 3
   },
   "file_extension": ".py",
   "mimetype": "text/x-python",
   "name": "python",
   "nbconvert_exporter": "python",
   "pygments_lexer": "ipython3",
   "version": "3.12.1"
  }
 },
 "nbformat": 4,
 "nbformat_minor": 5
}

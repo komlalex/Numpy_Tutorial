{
 "cells": [
  {
   "cell_type": "markdown",
   "id": "6e9047e4-d44e-4286-90d9-26e88142cef9",
   "metadata": {},
   "source": [
    "# Load in Numpy (Remember to pip install numpy if you haven't)"
   ]
  },
  {
   "cell_type": "code",
   "execution_count": 1,
   "id": "c37a9686-32dd-46fe-bfb2-122307571b7b",
   "metadata": {},
   "outputs": [],
   "source": [
    "import numpy as np"
   ]
  },
  {
   "cell_type": "markdown",
   "id": "c857ba7e-8a55-45a2-9394-a972d8a01105",
   "metadata": {},
   "source": [
    "# The Basics"
   ]
  },
  {
   "cell_type": "code",
   "execution_count": 2,
   "id": "46f5765f-1fdb-4f9b-849d-7eb2091f6e38",
   "metadata": {},
   "outputs": [
    {
     "name": "stdout",
     "output_type": "stream",
     "text": [
      "[1 2 3]\n"
     ]
    }
   ],
   "source": [
    "a = np.array([1,2,3], dtype=\"int32\")\n",
    "print(a)"
   ]
  },
  {
   "cell_type": "code",
   "execution_count": 3,
   "id": "0dfc0d55-f093-4110-bbdb-fc4e17e67c66",
   "metadata": {},
   "outputs": [
    {
     "name": "stdout",
     "output_type": "stream",
     "text": [
      "[[9. 8. 7.]\n",
      " [6. 5. 4.]]\n"
     ]
    }
   ],
   "source": [
    "b = np.array([[9.0, 8.0, 7.0], [6.0,5.0,4.0]])\n",
    "print(b)"
   ]
  },
  {
   "cell_type": "markdown",
   "id": "2fff6a17-6ea9-48e6-b1e3-fffd0ba845dc",
   "metadata": {},
   "source": [
    "# Get Dimension"
   ]
  },
  {
   "cell_type": "code",
   "execution_count": 4,
   "id": "845af399-d837-4f24-9ab9-a4af165b4565",
   "metadata": {},
   "outputs": [
    {
     "data": {
      "text/plain": [
       "2"
      ]
     },
     "execution_count": 4,
     "metadata": {},
     "output_type": "execute_result"
    }
   ],
   "source": [
    "# a.ndim\n",
    "b.ndim\n"
   ]
  },
  {
   "cell_type": "markdown",
   "id": "ae278d9b-1562-4542-8604-276b72713b70",
   "metadata": {},
   "source": [
    "# Get Shape"
   ]
  },
  {
   "cell_type": "code",
   "execution_count": 5,
   "id": "75ba5a45-737f-46f6-ba5f-e864db54f7a8",
   "metadata": {},
   "outputs": [
    {
     "data": {
      "text/plain": [
       "(3,)"
      ]
     },
     "execution_count": 5,
     "metadata": {},
     "output_type": "execute_result"
    }
   ],
   "source": [
    "a.shape"
   ]
  },
  {
   "cell_type": "code",
   "execution_count": 6,
   "id": "c240b0e9-3de9-4c3e-befd-8aa6b9f198d2",
   "metadata": {},
   "outputs": [
    {
     "data": {
      "text/plain": [
       "(2, 3)"
      ]
     },
     "execution_count": 6,
     "metadata": {},
     "output_type": "execute_result"
    }
   ],
   "source": [
    "b.shape"
   ]
  },
  {
   "cell_type": "markdown",
   "id": "8ceeda11-474b-4255-ab49-a7910bc3eba1",
   "metadata": {},
   "source": [
    "# Get Type"
   ]
  },
  {
   "cell_type": "code",
   "execution_count": 7,
   "id": "2dd04754-8528-4ae9-99f2-ff031b0ac561",
   "metadata": {},
   "outputs": [
    {
     "data": {
      "text/plain": [
       "dtype('int32')"
      ]
     },
     "execution_count": 7,
     "metadata": {},
     "output_type": "execute_result"
    }
   ],
   "source": [
    "a.dtype"
   ]
  },
  {
   "cell_type": "markdown",
   "id": "80de194a-5c6c-4e09-9c7c-c916d3051b75",
   "metadata": {},
   "source": [
    "# Get Size "
   ]
  },
  {
   "cell_type": "code",
   "execution_count": 8,
   "id": "9c45d6c4-0944-4331-8523-ad2eded666f0",
   "metadata": {},
   "outputs": [
    {
     "data": {
      "text/plain": [
       "4"
      ]
     },
     "execution_count": 8,
     "metadata": {},
     "output_type": "execute_result"
    }
   ],
   "source": [
    "a.itemsize"
   ]
  },
  {
   "cell_type": "code",
   "execution_count": 9,
   "id": "9b9f5323-5995-4c0e-8c3d-5b410a714667",
   "metadata": {},
   "outputs": [
    {
     "data": {
      "text/plain": [
       "8"
      ]
     },
     "execution_count": 9,
     "metadata": {},
     "output_type": "execute_result"
    }
   ],
   "source": [
    "b.itemsize"
   ]
  },
  {
   "cell_type": "markdown",
   "id": "1b6ee4fd-b23b-425a-9b4f-ab9bc44097b8",
   "metadata": {},
   "source": [
    "# Get  total size"
   ]
  },
  {
   "cell_type": "code",
   "execution_count": 12,
   "id": "59d3e724-4a27-44bc-8ef4-adebfdbe41d9",
   "metadata": {},
   "outputs": [
    {
     "data": {
      "text/plain": [
       "12"
      ]
     },
     "execution_count": 12,
     "metadata": {},
     "output_type": "execute_result"
    }
   ],
   "source": [
    "#a.size * a.itemsize\n",
    "\n",
    "# a.size gives the total number of elements whilst a.itemsize gives the size of each element\n",
    "\n",
    "a.nbytes\n",
    "\n"
   ]
  },
  {
   "cell_type": "code",
   "execution_count": null,
   "id": "953e24d7-5abd-4a7f-8ac1-7870549a9f55",
   "metadata": {},
   "outputs": [],
   "source": []
  }
 ],
 "metadata": {
  "kernelspec": {
   "display_name": "Python 3 (ipykernel)",
   "language": "python",
   "name": "python3"
  },
  "language_info": {
   "codemirror_mode": {
    "name": "ipython",
    "version": 3
   },
   "file_extension": ".py",
   "mimetype": "text/x-python",
   "name": "python",
   "nbconvert_exporter": "python",
   "pygments_lexer": "ipython3",
   "version": "3.12.1"
  }
 },
 "nbformat": 4,
 "nbformat_minor": 5
}
